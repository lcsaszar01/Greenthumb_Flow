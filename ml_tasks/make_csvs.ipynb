{
 "cells": [
  {
   "cell_type": "code",
   "execution_count": null,
   "metadata": {},
   "outputs": [],
   "source": [
    "#!/home/kpmealey/miniconda3/envs/lawnlogic/bin/python3\n",
    "\n",
    "import pandas as pd\n",
    "import random\n",
    "import json\n",
    "import time\n",
    "\n",
    "# '2023-12-08 06:00:00'\n",
    "\n",
    "start_date = '2023-11-00 00:00:00'\n",
    "end_date = '2023-12-06 23:59:00'\n",
    "time_20 = [stamp.strftime() for stamp in pd.date_range(start=start_date, end=end_date, freq='20T')]\n",
    "time_3H = [stamp.strftime() for stamp in pd.date_range(start=start_date, end=end_date, freq='180T')]\n",
    "time_1D = [(stamp + pd.Timedelta(hours=random.randint(6,10))).strftime() for stamp in pd.date_range(start=start_date, end=end_date, freq='1440T')]\n",
    "\n",
    "with open('weather_descriptions.json', 'r') as file:\n",
    "    data = json.load(file)\n",
    "weather_descriptions = data.get('weather descriptions')\n",
    "\n",
    "def generate_random(n, range_min, range_max):\n",
    "    return [random.uniform(range_min, range_max) for _ in range(n)]\n",
    "\n",
    "#sensor_df = pd.DataFrame(columns=[\"time\", \"zone\", \"moisture\", \"humidity\", \"temperature\", \"ir\", \"vis\", \"uv\", \"ph\"])\n",
    "n = len(time_20)\n",
    "sensor_data = {\"time\":sorted(time_20*2), \"zone\":[\"A\", \"B\"]*n, \"moisture\":generate_random(n*2,0,100), \"humidity\":generate_random(n*2,0,100), \"temperature\":generate_random(n*2, 40, 90),\"ir\":generate_random(n*2, 0,100), \"vis\":generate_random(n*2, 0, 100), \"uv\":generate_random(n*2, 0, 100), \"ph\":generate_random(n*2, 5, 8)}\n",
    "sensor_df = pd.DataFrame(sensor_data)\n",
    "sensor_df.to_csv('sensors.csv', index=False)\n",
    "\n",
    "#weather_df = pd.DataFrame(columns=[\"time\",\"temperature\", \"weather\"])\n",
    "p = len(time_3H)\n",
    "weather_data = {\"time\":time_3H, \"temperature (F)\":generate_random(p,40,90), \"humidity (percent)\":generate_random(p, 0, 100), \"clouds (percent coverage)\":generate_random(p, 0, 100), \"wind (mph)\":generate_random(p, 0, 50), \"weather\":random.choices(weather_descriptions, k=p)}\n",
    "weather_df = pd.DataFrame(weather_data)\n",
    "weather_df.to_csv('weather.csv', index=False)\n",
    "\n",
    "#watering_df = pd.DataFrame(columns=[\"time\", \"zone\", \"amount (L)\"])\n",
    "m = len(time_1D)\n",
    "watering_data = {\"time\":sorted(time_1D*2), \"zone\":[\"A\", \"B\"]*m, \"amount (L)\":generate_random(m*2, 0, 500)}\n",
    "watering_df = pd.DataFrame(watering_data)\n",
    "watering_df.to_csv('watering.csv', index=False)"
   ]
  }
 ],
 "metadata": {
  "language_info": {
   "name": "python"
  }
 },
 "nbformat": 4,
 "nbformat_minor": 2
}
